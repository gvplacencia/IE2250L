{
 "cells": [
  {
   "cell_type": "markdown",
   "metadata": {},
   "source": [
    "Initiatlize Environment"
   ]
  },
  {
   "cell_type": "code",
   "execution_count": 42,
   "metadata": {},
   "outputs": [],
   "source": [
    "import pandas as pd #to create DataFrame\n",
    "import numpy as np #Mathematical library\n",
    "import matplotlib.pyplot as plt\n",
    "import seaborn as sns\n",
    "import dash as da\n",
    "#import csv #to work with csv files on small cases"
   ]
  },
  {
   "cell_type": "markdown",
   "metadata": {},
   "source": [
    "Code"
   ]
  },
  {
   "cell_type": "code",
   "execution_count": 4,
   "metadata": {},
   "outputs": [],
   "source": [
    "mt_data = pd.read_csv('mt_dataf21.csv')"
   ]
  },
  {
   "cell_type": "code",
   "execution_count": 59,
   "metadata": {},
   "outputs": [],
   "source": [
    "mt_times = mt_data.loc[:,[\"Task 1 Time\", \"Task 2 Time\"]]\n",
    "#mt_ranks = mt_data.loc[:,[\"Task 1 Rating\", \"Task 2 Rating\"]]\n",
    "#mt_errors = mt_data.loc[:,[\"Task 1 Errors\", \"Task 2 Errors\"]]\n",
    "#print(mt_times) #print actual data\n",
    "#print(mt_times.describe()) #print descriptive statistics"
   ]
  },
  {
   "cell_type": "code",
   "execution_count": 58,
   "metadata": {},
   "outputs": [
    {
     "data": {
      "image/png": "[encoded data removed]",
      "text/plain": [
       "<Figure size 432x288 with 1 Axes>"
      ]
     },
     "metadata": {
      "needs_background": "light"
     },
     "output_type": "display_data"
    }
   ],
   "source": [
    "#Find number of Bins\n",
    "#fig, ax1 = plt.subplots()\n",
    "#sns.kdeplot(data=df, x=\"value\", ax=ax1)\n",
    "#ax1.set_xlim((df[\"value\"].min(), df[\"value\"].max()))\n",
    "#ax2 = ax1.twinx()\n",
    "#sns.histplot(data=df, x=\"value\", discrete=True, ax=ax2)\n",
    "\n",
    "plt.hist(mt_times[\"Task 1 Time\"], 7)\n",
    "plt.hist(mt_times[\"Task 2 Time\"], 7)\n",
    "plt.show()"
   ]
  },
  {
   "cell_type": "code",
   "execution_count": null,
   "metadata": {},
   "outputs": [],
   "source": []
  }
 ],
 "metadata": {
  "kernelspec": {
   "display_name": "Python 3",
   "language": "python",
   "name": "python3"
  },
  "language_info": {
   "codemirror_mode": {
    "name": "ipython",
    "version": 3
   },
   "file_extension": ".py",
   "mimetype": "text/x-python",
   "name": "python",
   "nbconvert_exporter": "python",
   "pygments_lexer": "ipython3",
   "version": "3.7.6"
  }
 },
 "nbformat": 4,
 "nbformat_minor": 4
}
